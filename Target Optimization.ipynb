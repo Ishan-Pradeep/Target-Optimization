{
  "cells": [
    {
      "cell_type": "code",
      "execution_count": null,
      "id": "8938b4f9",
      "metadata": {
        "id": "8938b4f9"
      },
      "outputs": [],
      "source": [
        "import numpy as np\n",
        "import pandas as pd\n",
        "from scipy.optimize import minimize\n",
        "from scipy.optimize import differential_evolution, minimize"
      ]
    },
    {
      "cell_type": "code",
      "source": [
        "from google.colab import drive\n",
        "drive.mount('/content/drive')"
      ],
      "metadata": {
        "colab": {
          "base_uri": "https://localhost:8080/"
        },
        "id": "euVzeS5UvfXK",
        "outputId": "55d087b7-00ef-4cc8-88d7-4fe0db7121d3"
      },
      "id": "euVzeS5UvfXK",
      "execution_count": null,
      "outputs": [
        {
          "output_type": "stream",
          "name": "stdout",
          "text": [
            "Mounted at /content/drive\n"
          ]
        }
      ]
    },
    {
      "cell_type": "code",
      "execution_count": null,
      "id": "0d3b2394",
      "metadata": {
        "id": "0d3b2394"
      },
      "outputs": [],
      "source": [
        "#Data Loading\n",
        "mix_data=pd.read_excel(\"/content/drive/MyDrive/Product_mix/Mixed_Budget.xlsx\")\n"
      ]
    },
    {
      "cell_type": "code",
      "execution_count": null,
      "id": "e02d1d11",
      "metadata": {
        "colab": {
          "base_uri": "https://localhost:8080/"
        },
        "id": "e02d1d11",
        "outputId": "4caf9dfa-5838-4a83-cd4d-ca25e52edc6c"
      },
      "outputs": [
        {
          "output_type": "stream",
          "name": "stdout",
          "text": [
            "Count  :   69\n"
          ]
        }
      ],
      "source": [
        "num_agencies = len(mix_data[\"Agency\"])\n",
        "list1=mix_data[\"Budgted T/O\"]\n",
        "list2= mix_data[\"GP %\"]\n",
        "\n",
        "\n",
        "for i in range(len(list1)):\n",
        "    if list1[i] < 0:\n",
        "        list1[i] = 0\n",
        "\n",
        "\n",
        "print(\"Count  :  \",num_agencies)"
      ]
    },
    {
      "cell_type": "code",
      "source": [
        "list1.sum()"
      ],
      "metadata": {
        "colab": {
          "base_uri": "https://localhost:8080/"
        },
        "id": "dUJxZ5AGQ7-9",
        "outputId": "6865ad77-65d1-4e81-fead-081cfbee0b40"
      },
      "id": "dUJxZ5AGQ7-9",
      "execution_count": null,
      "outputs": [
        {
          "output_type": "execute_result",
          "data": {
            "text/plain": [
              "4683763864.732279"
            ]
          },
          "metadata": {},
          "execution_count": 110
        }
      ]
    },
    {
      "cell_type": "code",
      "execution_count": null,
      "id": "fdbba9e0",
      "metadata": {
        "colab": {
          "base_uri": "https://localhost:8080/"
        },
        "id": "fdbba9e0",
        "outputId": "ece91481-94f3-4ee9-d369-477e93a6a1b0"
      },
      "outputs": [
        {
          "output_type": "stream",
          "name": "stdout",
          "text": [
            "Current total Sales: 4683763864.732279\n",
            "Current total profit: 732384857.2936119\n"
          ]
        }
      ],
      "source": [
        "#DEFAULT VALUES\n",
        "\n",
        "current_sales_total=np.sum(list1)\n",
        "\n",
        "print(\"Current total Sales:\", current_sales_total)\n",
        "print(\"Current total profit:\", np.sum(list1*list2))"
      ]
    },
    {
      "cell_type": "code",
      "execution_count": null,
      "id": "23ce4fb5",
      "metadata": {
        "id": "23ce4fb5"
      },
      "outputs": [],
      "source": [
        "#variable Calculation\n",
        "\n",
        "length_sales= len(mix_data[\"Budgted T/O\"])\n",
        "average_sales=current_sales_total/len(mix_data[\"Budgted T/O\"])\n"
      ]
    },
    {
      "cell_type": "code",
      "source": [
        "#contribution\n",
        "mix_data[\"contribution\"] = mix_data[\"Budgted T/O\"] / np.sum(mix_data[\"Budgted T/O\"])\n",
        "mix_data.head()"
      ],
      "metadata": {
        "id": "1NOlRkE2nmYJ"
      },
      "id": "1NOlRkE2nmYJ",
      "execution_count": null,
      "outputs": []
    },
    {
      "cell_type": "code",
      "execution_count": null,
      "id": "690adeb2",
      "metadata": {
        "id": "690adeb2"
      },
      "outputs": [],
      "source": [
        "list3 = mix_data[\"contribution\"]"
      ]
    },
    {
      "cell_type": "code",
      "execution_count": null,
      "id": "3b57dd89",
      "metadata": {
        "id": "3b57dd89"
      },
      "outputs": [],
      "source": [
        "def negative_profit(x):\n",
        "    total_sales = np.sum(x)\n",
        "    profit = -np.dot(x, list2)\n",
        "    return profit\n",
        "\n",
        "x0 = np.tile(average_sales, length_sales)"
      ]
    },
    {
      "cell_type": "markdown",
      "id": "a434f249",
      "metadata": {
        "id": "a434f249"
      },
      "source": [
        "### DEFINE TARGET AND MARGINS"
      ]
    },
    {
      "cell_type": "code",
      "execution_count": null,
      "id": "57328808",
      "metadata": {
        "id": "57328808"
      },
      "outputs": [],
      "source": [
        "#define target value\n",
        "\n",
        "target_val = 4000000\n",
        "\n",
        "\n"
      ]
    },
    {
      "cell_type": "markdown",
      "source": [],
      "metadata": {
        "id": "SCV6XwuHDP0Y"
      },
      "id": "SCV6XwuHDP0Y"
    },
    {
      "cell_type": "code",
      "source": [
        "margin=[]\n",
        "\n",
        "for i in range(len(list1)):\n",
        "  if (list1[i] / current_sales_total) < 0.01:\n",
        "    margin.append(0.0001)\n",
        "  elif (list1[i] / current_sales_total) < 0.05:\n",
        "    margin.append(0.0002)\n",
        "  else:\n",
        "    margin.append(0.0005)\n"
      ],
      "metadata": {
        "id": "bm0CTSzCDleq"
      },
      "id": "bm0CTSzCDleq",
      "execution_count": null,
      "outputs": []
    },
    {
      "cell_type": "code",
      "source": [
        "ones_list = [1 for _ in range(num_agencies)]\n",
        "ml = [a - b for a, b in zip(ones_list, margin)]\n",
        "mh = [a + b for a, b in zip(ones_list, margin)]\n",
        "\n",
        "lower = [ ml* s * rate for ml,s in zip(ml,list1)]\n",
        "higher = [ mh* s * rate for mh,s in zip(mh,list1)]\n",
        "\n",
        "bounds =[(m,n) for m,n in zip(lower,higher)]\n"
      ],
      "metadata": {
        "id": "yMZaAfkqM620"
      },
      "id": "yMZaAfkqM620",
      "execution_count": null,
      "outputs": []
    },
    {
      "cell_type": "code",
      "execution_count": null,
      "id": "4481f53c",
      "metadata": {
        "colab": {
          "base_uri": "https://localhost:8080/"
        },
        "id": "4481f53c",
        "outputId": "25c73001-60dd-4629-a0b0-883223ab35ef"
      },
      "outputs": [
        {
          "output_type": "stream",
          "name": "stderr",
          "text": [
            "<ipython-input-126-8af26dfca8ed>:12: OptimizeWarning: Unknown solver options: gtol, xtol\n",
            "  result_mid = minimize(negative_profit, result_global.x, method='SLSQP', bounds=bounds, constraints=constraints, options=options)\n",
            "<ipython-input-126-8af26dfca8ed>:13: OptimizeWarning: Unknown solver options: gtol, xtol\n",
            "  result = minimize(negative_profit, result_mid.x, method='SLSQP', bounds=bounds, constraints=constraints, options=options)\n"
          ]
        }
      ],
      "source": [
        "\n",
        "\n",
        "options = {\n",
        "    'ftol': 1e-6,  # Tolerance for the change in the objective function\n",
        "    'gtol': 1e-6,  # Tolerance for the gradient (if applicable)\n",
        "    'xtol': 1e-6,  # Tolerance for the step size\n",
        "}\n",
        "\n",
        "constraints = [({'type': 'eq', 'fun': lambda x: target_val - np.sum(x)}) ,({'type': 'ineq', 'fun': lambda x: x})]\n",
        "\n",
        "result_global = differential_evolution(negative_profit, bounds)\n",
        "result_mid = minimize(negative_profit, result_global.x, method='SLSQP', bounds=bounds, constraints=constraints, options=options)\n",
        "result = minimize(negative_profit, result_mid.x, method='SLSQP', bounds=bounds, constraints=constraints, options=options)\n",
        "\n"
      ]
    },
    {
      "cell_type": "code",
      "source": [
        "optimal_dif = -result_global.fun\n",
        "print(optimal_dif)\n",
        "optimal_mid = -result_mid.fun\n",
        "print(optimal_mid)\n",
        "optimal_fi = -result.fun\n",
        "print(optimal_fi)\n",
        "\n",
        "if optimal_dif >= optimal_mid and optimal_dif >= optimal_fi:\n",
        "  mode = result_global\n",
        "elif optimal_mid >=optimal_dif and optimal_mid>= optimal_fi:\n",
        "  mode = result_mid\n",
        "else:\n",
        "  mode = result\n",
        "print(-mode.fun)\n"
      ],
      "metadata": {
        "colab": {
          "base_uri": "https://localhost:8080/"
        },
        "id": "ZQraJFjhQCW7",
        "outputId": "1d8933c8-180a-4b04-fa33-c6f4d2363df1"
      },
      "id": "ZQraJFjhQCW7",
      "execution_count": null,
      "outputs": [
        {
          "output_type": "stream",
          "name": "stdout",
          "text": [
            "732568106.3916582\n",
            "732431341.683365\n",
            "732431677.8555272\n",
            "732568106.3916582\n"
          ]
        }
      ]
    },
    {
      "cell_type": "code",
      "execution_count": null,
      "id": "07accb2c",
      "metadata": {
        "colab": {
          "base_uri": "https://localhost:8080/"
        },
        "id": "07accb2c",
        "outputId": "db5415ff-a046-4149-9d62-5e848ee8aaca"
      },
      "outputs": [
        {
          "output_type": "stream",
          "name": "stdout",
          "text": [
            "Optimal Profit: 732568106.3916582\n",
            "new value target:  4685167658.646836\n"
          ]
        }
      ],
      "source": [
        "optimal_sales = mode.x\n",
        "optimal_profit = -mode.fun\n",
        "\n",
        "print(\"Optimal Profit:\", optimal_profit)\n",
        "print(\"new value target: \", np.sum(optimal_sales))\n",
        "\n",
        "mix_data[\"optimal_values\"]= optimal_sales"
      ]
    },
    {
      "cell_type": "code",
      "source": [
        "print(mix_data)"
      ],
      "metadata": {
        "id": "oyOGrMqNoJOU"
      },
      "id": "oyOGrMqNoJOU",
      "execution_count": null,
      "outputs": []
    },
    {
      "cell_type": "code",
      "source": [
        "mix_data.iloc[:,8:13]"
      ],
      "metadata": {
        "colab": {
          "base_uri": "https://localhost:8080/",
          "height": 682
        },
        "id": "CkDBdPmNR6Mu",
        "outputId": "eb171c1c-aa29-43f4-d580-49812d5d1915"
      },
      "id": "CkDBdPmNR6Mu",
      "execution_count": null,
      "outputs": [
        {
          "output_type": "execute_result",
          "data": {
            "text/plain": [
              "     Budgted T/O   Budgeted GP      GP %  contribution  optimal_values\n",
              "0   6.124742e+05  3.155045e+05  0.515131      0.000131    5.966693e+05\n",
              "1   2.000000e+07  6.262704e+06  0.313135      0.004270    1.986993e+07\n",
              "2   6.000000e+06  2.317200e+06  0.386200      0.001281    6.182125e+06\n",
              "3   0.000000e+00  0.000000e+00  0.000000      0.000000    0.000000e+00\n",
              "4   0.000000e+00  0.000000e+00  0.000000      0.000000    0.000000e+00\n",
              "..           ...           ...       ...           ...             ...\n",
              "64  4.439130e+07  3.328281e+06  0.074976      0.009478    4.427597e+07\n",
              "65  0.000000e+00  0.000000e+00  0.000000      0.000000    0.000000e+00\n",
              "66  1.487602e+07  4.027736e+06  0.270754      0.003176    1.510946e+07\n",
              "67  1.786758e+07  3.573515e+06  0.200000      0.003815    1.725174e+07\n",
              "68  0.000000e+00  0.000000e+00  0.000000      0.000000    0.000000e+00\n",
              "\n",
              "[69 rows x 5 columns]"
            ],
            "text/html": [
              "\n",
              "  <div id=\"df-6f682e89-a062-4639-90a8-a581859695c5\" class=\"colab-df-container\">\n",
              "    <div>\n",
              "<style scoped>\n",
              "    .dataframe tbody tr th:only-of-type {\n",
              "        vertical-align: middle;\n",
              "    }\n",
              "\n",
              "    .dataframe tbody tr th {\n",
              "        vertical-align: top;\n",
              "    }\n",
              "\n",
              "    .dataframe thead th {\n",
              "        text-align: right;\n",
              "    }\n",
              "</style>\n",
              "<table border=\"1\" class=\"dataframe\">\n",
              "  <thead>\n",
              "    <tr style=\"text-align: right;\">\n",
              "      <th></th>\n",
              "      <th>Budgted T/O</th>\n",
              "      <th>Budgeted GP</th>\n",
              "      <th>GP %</th>\n",
              "      <th>contribution</th>\n",
              "      <th>optimal_values</th>\n",
              "    </tr>\n",
              "  </thead>\n",
              "  <tbody>\n",
              "    <tr>\n",
              "      <th>0</th>\n",
              "      <td>6.124742e+05</td>\n",
              "      <td>3.155045e+05</td>\n",
              "      <td>0.515131</td>\n",
              "      <td>0.000131</td>\n",
              "      <td>5.966693e+05</td>\n",
              "    </tr>\n",
              "    <tr>\n",
              "      <th>1</th>\n",
              "      <td>2.000000e+07</td>\n",
              "      <td>6.262704e+06</td>\n",
              "      <td>0.313135</td>\n",
              "      <td>0.004270</td>\n",
              "      <td>1.986993e+07</td>\n",
              "    </tr>\n",
              "    <tr>\n",
              "      <th>2</th>\n",
              "      <td>6.000000e+06</td>\n",
              "      <td>2.317200e+06</td>\n",
              "      <td>0.386200</td>\n",
              "      <td>0.001281</td>\n",
              "      <td>6.182125e+06</td>\n",
              "    </tr>\n",
              "    <tr>\n",
              "      <th>3</th>\n",
              "      <td>0.000000e+00</td>\n",
              "      <td>0.000000e+00</td>\n",
              "      <td>0.000000</td>\n",
              "      <td>0.000000</td>\n",
              "      <td>0.000000e+00</td>\n",
              "    </tr>\n",
              "    <tr>\n",
              "      <th>4</th>\n",
              "      <td>0.000000e+00</td>\n",
              "      <td>0.000000e+00</td>\n",
              "      <td>0.000000</td>\n",
              "      <td>0.000000</td>\n",
              "      <td>0.000000e+00</td>\n",
              "    </tr>\n",
              "    <tr>\n",
              "      <th>...</th>\n",
              "      <td>...</td>\n",
              "      <td>...</td>\n",
              "      <td>...</td>\n",
              "      <td>...</td>\n",
              "      <td>...</td>\n",
              "    </tr>\n",
              "    <tr>\n",
              "      <th>64</th>\n",
              "      <td>4.439130e+07</td>\n",
              "      <td>3.328281e+06</td>\n",
              "      <td>0.074976</td>\n",
              "      <td>0.009478</td>\n",
              "      <td>4.427597e+07</td>\n",
              "    </tr>\n",
              "    <tr>\n",
              "      <th>65</th>\n",
              "      <td>0.000000e+00</td>\n",
              "      <td>0.000000e+00</td>\n",
              "      <td>0.000000</td>\n",
              "      <td>0.000000</td>\n",
              "      <td>0.000000e+00</td>\n",
              "    </tr>\n",
              "    <tr>\n",
              "      <th>66</th>\n",
              "      <td>1.487602e+07</td>\n",
              "      <td>4.027736e+06</td>\n",
              "      <td>0.270754</td>\n",
              "      <td>0.003176</td>\n",
              "      <td>1.510946e+07</td>\n",
              "    </tr>\n",
              "    <tr>\n",
              "      <th>67</th>\n",
              "      <td>1.786758e+07</td>\n",
              "      <td>3.573515e+06</td>\n",
              "      <td>0.200000</td>\n",
              "      <td>0.003815</td>\n",
              "      <td>1.725174e+07</td>\n",
              "    </tr>\n",
              "    <tr>\n",
              "      <th>68</th>\n",
              "      <td>0.000000e+00</td>\n",
              "      <td>0.000000e+00</td>\n",
              "      <td>0.000000</td>\n",
              "      <td>0.000000</td>\n",
              "      <td>0.000000e+00</td>\n",
              "    </tr>\n",
              "  </tbody>\n",
              "</table>\n",
              "<p>69 rows × 5 columns</p>\n",
              "</div>\n",
              "    <div class=\"colab-df-buttons\">\n",
              "\n",
              "  <div class=\"colab-df-container\">\n",
              "    <button class=\"colab-df-convert\" onclick=\"convertToInteractive('df-6f682e89-a062-4639-90a8-a581859695c5')\"\n",
              "            title=\"Convert this dataframe to an interactive table.\"\n",
              "            style=\"display:none;\">\n",
              "\n",
              "  <svg xmlns=\"http://www.w3.org/2000/svg\" height=\"24px\" viewBox=\"0 -960 960 960\">\n",
              "    <path d=\"M120-120v-720h720v720H120Zm60-500h600v-160H180v160Zm220 220h160v-160H400v160Zm0 220h160v-160H400v160ZM180-400h160v-160H180v160Zm440 0h160v-160H620v160ZM180-180h160v-160H180v160Zm440 0h160v-160H620v160Z\"/>\n",
              "  </svg>\n",
              "    </button>\n",
              "\n",
              "  <style>\n",
              "    .colab-df-container {\n",
              "      display:flex;\n",
              "      gap: 12px;\n",
              "    }\n",
              "\n",
              "    .colab-df-convert {\n",
              "      background-color: #E8F0FE;\n",
              "      border: none;\n",
              "      border-radius: 50%;\n",
              "      cursor: pointer;\n",
              "      display: none;\n",
              "      fill: #1967D2;\n",
              "      height: 32px;\n",
              "      padding: 0 0 0 0;\n",
              "      width: 32px;\n",
              "    }\n",
              "\n",
              "    .colab-df-convert:hover {\n",
              "      background-color: #E2EBFA;\n",
              "      box-shadow: 0px 1px 2px rgba(60, 64, 67, 0.3), 0px 1px 3px 1px rgba(60, 64, 67, 0.15);\n",
              "      fill: #174EA6;\n",
              "    }\n",
              "\n",
              "    .colab-df-buttons div {\n",
              "      margin-bottom: 4px;\n",
              "    }\n",
              "\n",
              "    [theme=dark] .colab-df-convert {\n",
              "      background-color: #3B4455;\n",
              "      fill: #D2E3FC;\n",
              "    }\n",
              "\n",
              "    [theme=dark] .colab-df-convert:hover {\n",
              "      background-color: #434B5C;\n",
              "      box-shadow: 0px 1px 3px 1px rgba(0, 0, 0, 0.15);\n",
              "      filter: drop-shadow(0px 1px 2px rgba(0, 0, 0, 0.3));\n",
              "      fill: #FFFFFF;\n",
              "    }\n",
              "  </style>\n",
              "\n",
              "    <script>\n",
              "      const buttonEl =\n",
              "        document.querySelector('#df-6f682e89-a062-4639-90a8-a581859695c5 button.colab-df-convert');\n",
              "      buttonEl.style.display =\n",
              "        google.colab.kernel.accessAllowed ? 'block' : 'none';\n",
              "\n",
              "      async function convertToInteractive(key) {\n",
              "        const element = document.querySelector('#df-6f682e89-a062-4639-90a8-a581859695c5');\n",
              "        const dataTable =\n",
              "          await google.colab.kernel.invokeFunction('convertToInteractive',\n",
              "                                                    [key], {});\n",
              "        if (!dataTable) return;\n",
              "\n",
              "        const docLinkHtml = 'Like what you see? Visit the ' +\n",
              "          '<a target=\"_blank\" href=https://colab.research.google.com/notebooks/data_table.ipynb>data table notebook</a>'\n",
              "          + ' to learn more about interactive tables.';\n",
              "        element.innerHTML = '';\n",
              "        dataTable['output_type'] = 'display_data';\n",
              "        await google.colab.output.renderOutput(dataTable, element);\n",
              "        const docLink = document.createElement('div');\n",
              "        docLink.innerHTML = docLinkHtml;\n",
              "        element.appendChild(docLink);\n",
              "      }\n",
              "    </script>\n",
              "  </div>\n",
              "\n",
              "\n",
              "<div id=\"df-77a6407d-4363-42b6-a398-aae72e4a0084\">\n",
              "  <button class=\"colab-df-quickchart\" onclick=\"quickchart('df-77a6407d-4363-42b6-a398-aae72e4a0084')\"\n",
              "            title=\"Suggest charts.\"\n",
              "            style=\"display:none;\">\n",
              "\n",
              "<svg xmlns=\"http://www.w3.org/2000/svg\" height=\"24px\"viewBox=\"0 0 24 24\"\n",
              "     width=\"24px\">\n",
              "    <g>\n",
              "        <path d=\"M19 3H5c-1.1 0-2 .9-2 2v14c0 1.1.9 2 2 2h14c1.1 0 2-.9 2-2V5c0-1.1-.9-2-2-2zM9 17H7v-7h2v7zm4 0h-2V7h2v10zm4 0h-2v-4h2v4z\"/>\n",
              "    </g>\n",
              "</svg>\n",
              "  </button>\n",
              "\n",
              "<style>\n",
              "  .colab-df-quickchart {\n",
              "      --bg-color: #E8F0FE;\n",
              "      --fill-color: #1967D2;\n",
              "      --hover-bg-color: #E2EBFA;\n",
              "      --hover-fill-color: #174EA6;\n",
              "      --disabled-fill-color: #AAA;\n",
              "      --disabled-bg-color: #DDD;\n",
              "  }\n",
              "\n",
              "  [theme=dark] .colab-df-quickchart {\n",
              "      --bg-color: #3B4455;\n",
              "      --fill-color: #D2E3FC;\n",
              "      --hover-bg-color: #434B5C;\n",
              "      --hover-fill-color: #FFFFFF;\n",
              "      --disabled-bg-color: #3B4455;\n",
              "      --disabled-fill-color: #666;\n",
              "  }\n",
              "\n",
              "  .colab-df-quickchart {\n",
              "    background-color: var(--bg-color);\n",
              "    border: none;\n",
              "    border-radius: 50%;\n",
              "    cursor: pointer;\n",
              "    display: none;\n",
              "    fill: var(--fill-color);\n",
              "    height: 32px;\n",
              "    padding: 0;\n",
              "    width: 32px;\n",
              "  }\n",
              "\n",
              "  .colab-df-quickchart:hover {\n",
              "    background-color: var(--hover-bg-color);\n",
              "    box-shadow: 0 1px 2px rgba(60, 64, 67, 0.3), 0 1px 3px 1px rgba(60, 64, 67, 0.15);\n",
              "    fill: var(--button-hover-fill-color);\n",
              "  }\n",
              "\n",
              "  .colab-df-quickchart-complete:disabled,\n",
              "  .colab-df-quickchart-complete:disabled:hover {\n",
              "    background-color: var(--disabled-bg-color);\n",
              "    fill: var(--disabled-fill-color);\n",
              "    box-shadow: none;\n",
              "  }\n",
              "\n",
              "  .colab-df-spinner {\n",
              "    border: 2px solid var(--fill-color);\n",
              "    border-color: transparent;\n",
              "    border-bottom-color: var(--fill-color);\n",
              "    animation:\n",
              "      spin 1s steps(1) infinite;\n",
              "  }\n",
              "\n",
              "  @keyframes spin {\n",
              "    0% {\n",
              "      border-color: transparent;\n",
              "      border-bottom-color: var(--fill-color);\n",
              "      border-left-color: var(--fill-color);\n",
              "    }\n",
              "    20% {\n",
              "      border-color: transparent;\n",
              "      border-left-color: var(--fill-color);\n",
              "      border-top-color: var(--fill-color);\n",
              "    }\n",
              "    30% {\n",
              "      border-color: transparent;\n",
              "      border-left-color: var(--fill-color);\n",
              "      border-top-color: var(--fill-color);\n",
              "      border-right-color: var(--fill-color);\n",
              "    }\n",
              "    40% {\n",
              "      border-color: transparent;\n",
              "      border-right-color: var(--fill-color);\n",
              "      border-top-color: var(--fill-color);\n",
              "    }\n",
              "    60% {\n",
              "      border-color: transparent;\n",
              "      border-right-color: var(--fill-color);\n",
              "    }\n",
              "    80% {\n",
              "      border-color: transparent;\n",
              "      border-right-color: var(--fill-color);\n",
              "      border-bottom-color: var(--fill-color);\n",
              "    }\n",
              "    90% {\n",
              "      border-color: transparent;\n",
              "      border-bottom-color: var(--fill-color);\n",
              "    }\n",
              "  }\n",
              "</style>\n",
              "\n",
              "  <script>\n",
              "    async function quickchart(key) {\n",
              "      const quickchartButtonEl =\n",
              "        document.querySelector('#' + key + ' button');\n",
              "      quickchartButtonEl.disabled = true;  // To prevent multiple clicks.\n",
              "      quickchartButtonEl.classList.add('colab-df-spinner');\n",
              "      try {\n",
              "        const charts = await google.colab.kernel.invokeFunction(\n",
              "            'suggestCharts', [key], {});\n",
              "      } catch (error) {\n",
              "        console.error('Error during call to suggestCharts:', error);\n",
              "      }\n",
              "      quickchartButtonEl.classList.remove('colab-df-spinner');\n",
              "      quickchartButtonEl.classList.add('colab-df-quickchart-complete');\n",
              "    }\n",
              "    (() => {\n",
              "      let quickchartButtonEl =\n",
              "        document.querySelector('#df-77a6407d-4363-42b6-a398-aae72e4a0084 button');\n",
              "      quickchartButtonEl.style.display =\n",
              "        google.colab.kernel.accessAllowed ? 'block' : 'none';\n",
              "    })();\n",
              "  </script>\n",
              "</div>\n",
              "    </div>\n",
              "  </div>\n"
            ]
          },
          "metadata": {},
          "execution_count": 65
        }
      ]
    },
    {
      "cell_type": "code",
      "execution_count": null,
      "id": "0d959245",
      "metadata": {
        "id": "0d959245"
      },
      "outputs": [],
      "source": []
    },
    {
      "cell_type": "markdown",
      "id": "856bfa97",
      "metadata": {
        "id": "856bfa97"
      },
      "source": [
        "# Iterative Process"
      ]
    },
    {
      "cell_type": "code",
      "execution_count": null,
      "id": "b5d08cbd",
      "metadata": {
        "id": "b5d08cbd"
      },
      "outputs": [],
      "source": [
        "l=[(1,1),(0.999,1.001),(0.998,1.002),(0.997,1.003)]"
      ]
    },
    {
      "cell_type": "code",
      "execution_count": null,
      "id": "349193f1",
      "metadata": {
        "colab": {
          "base_uri": "https://localhost:8080/"
        },
        "id": "349193f1",
        "outputId": "fe1d7630-b622-40ee-ef68-7fd1b1821af0"
      },
      "outputs": [
        {
          "output_type": "stream",
          "name": "stdout",
          "text": [
            "Optimal Profit: 732384857.2936118\n",
            "Optimal Profit: 732913473.5914195\n",
            "Optimal Profit: 733047491.1426114\n",
            "Optimal Profit: 733465546.7592878\n"
          ]
        }
      ],
      "source": [
        "for a,b in l:\n",
        "    bounds = [(a* s * rate, b* s * rate) for s in list1]\n",
        "\n",
        "    constraints = [({'type': 'eq', 'fun': lambda x: target_val - np.sum(x)}) ,({'type': 'ineq', 'fun': lambda x: x})]\n",
        "\n",
        "    result_global = differential_evolution(negative_profit, bounds)\n",
        "    result_mid = minimize(negative_profit, result_global.x, method='SLSQP', bounds=bounds, constraints=constraints)\n",
        "    result = minimize(negative_profit, result_mid.x, method='SLSQP', bounds=bounds, constraints=constraints)\n",
        "\n",
        "    optimal_dif = -result_global.fun\n",
        "    #print(optimal_dif)\n",
        "    optimal_mid = -result_mid.fun\n",
        "    #print(optimal_mid)\n",
        "    optimal_fi = -result.fun\n",
        "    #print(optimal_fi)\n",
        "\n",
        "    if optimal_dif >= optimal_mid and optimal_dif >= optimal_fi:\n",
        "      mode = result_global\n",
        "    elif optimal_mid >=optimal_dif and optimal_mid>= optimal_fi:\n",
        "      mode = result_mid\n",
        "    else:\n",
        "      mode = result\n",
        "    #print(-mode.fun)\n",
        "\n",
        "    optimal_sales = mode.x\n",
        "    optimal_profit = -mode.fun\n",
        "\n",
        "\n",
        "    #print(\"Optimal Sales Values:\", optimal_sales)\n",
        "    print(\"Optimal Profit:\", optimal_profit)"
      ]
    },
    {
      "cell_type": "code",
      "execution_count": null,
      "id": "e1814cae",
      "metadata": {
        "id": "e1814cae"
      },
      "outputs": [],
      "source": []
    },
    {
      "cell_type": "code",
      "execution_count": null,
      "id": "cf39844a",
      "metadata": {
        "id": "cf39844a"
      },
      "outputs": [],
      "source": []
    },
    {
      "cell_type": "code",
      "execution_count": null,
      "id": "024a4269",
      "metadata": {
        "id": "024a4269"
      },
      "outputs": [],
      "source": []
    }
  ],
  "metadata": {
    "kernelspec": {
      "display_name": "Python 3 (ipykernel)",
      "language": "python",
      "name": "python3"
    },
    "language_info": {
      "codemirror_mode": {
        "name": "ipython",
        "version": 3
      },
      "file_extension": ".py",
      "mimetype": "text/x-python",
      "name": "python",
      "nbconvert_exporter": "python",
      "pygments_lexer": "ipython3",
      "version": "3.11.5"
    },
    "colab": {
      "provenance": []
    }
  },
  "nbformat": 4,
  "nbformat_minor": 5
}